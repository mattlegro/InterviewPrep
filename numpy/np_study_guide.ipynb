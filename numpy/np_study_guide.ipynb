{
 "cells": [
  {
   "cell_type": "markdown",
   "metadata": {},
   "source": [
    "## QA / conceptual basics for NumPy"
   ]
  },
  {
   "cell_type": "markdown",
   "metadata": {},
   "source": [
    "NumPy is an open-source, high-performing library that allows complex mathematical and scientific computational capabilities. It makes use of Python language which is a high-level, easy-to-learn, general-purpose programming language. NumPy supports the operations on arrays of homogenous data so that it can take advantage of C optimized backend code (C requiring set, homogenous data types). This makes Python act as a really advanced programming language that manipulates numerical data. It increases the functionality and operability of NumPy. It supports the following:\n",
    "\n",
    "-Powerful functions for performing complex mathematical operations on multi-dimensional matrices and arrays. The operations on ndarrays of NumPy are approximately up to 50% faster when compared to operations on native lists using loops. This efficiency is very much useful \n",
    "\n",
    "-when the arrays have millions of elements.\n",
    "\n",
    "-Provides indexing syntax to access portions of data easily in a large array.\n",
    "\n",
    "-Provides built-in functions which help to easily perform operations related to linear algebra and statistics.\n",
    "\n",
    "-It takes only a few lines of code to achieve complex computations using NumPy.\n",
    "\n",
    "NumPy compared to Lists\n",
    "\n",
    "-Python lists support storing heterogeneous data types whereas NumPy arrays can store datatypes of one nature itself. NumPy provides extra functional capabilities that make operating on its arrays easier which makes NumPy array advantageous in comparison to Python lists as those functions cannot be operated on heterogeneous data.\n",
    "\n",
    "-NumPy arrays are treated as objects which results in minimal memory usage. Since Python keeps track of objects by creating or deleting them based on the requirements, NumPy objects are also treated the same way. This results in lesser memory wastage.\n",
    "\n",
    "-NumPy arrays support multi-dimensional arrays.\n",
    "\n",
    "-NumPy provides various powerful and efficient functions for complex computations on the arrays.\n",
    "\n",
    "-NumPy also provides various range of functions for BitWise Operations, String Operations, Linear Algebraic operations, Arithmetic operations etc. These are not provided on Python’s default lists.\n",
    "\n",
    "What are ndarrays in NumPy?\n",
    "\n",
    "ndarray object is the core of the NumPy package. It consists of n-dimensional arrays storing elements of the same data types and also has many operations that are done in compiled code for optimised performance. These arrays have fixed sizes defined at the time of creation. Following are some of the properties of ndarrays:\n",
    "\n",
    "-When the size of ndarrays is changed, it results in a new array and the original array is deleted.\n",
    "\n",
    "-The ndarrays are bound to store homogeneous data.\n",
    "\n",
    "-They provide functions to perform advanced mathematical operations in an efficient manner.\n",
    "\n",
    "What are ways of creating 1D, 2D and 3D arrays in NumPy?\n",
    "\n",
    "# 1D\n",
    "```\n",
    "arr = [1,2,3,4]\n",
    "np_arr = np.array(arr)\n",
    "```\n",
    "\n",
    "# 2D\n",
    "\n",
    "```\n",
    "arr = [[1,2,3,4],[4,5,6,7]]\n",
    "np_arr = np.array(arr)\n",
    "```\n",
    "\n",
    "Datatypes\n",
    "\n",
    "NumPy supports the following datatypes:\n",
    "\n",
    "    i - integer\n",
    "    S - string\n",
    "    b - boolean\n",
    "    f - float\n",
    "    u - unsigned integer\n",
    "    c - complex float\n",
    "    m - timedelta\n",
    "    M - datetime\n",
    "    O - object\n",
    "    U - unicode string\n",
    "    V - fixed memory chunk for types such as void\n",
    "    We can make use of the dtype property that returns the type of the elements stored in the NumPy array. Let us consider the below code snippet. We create some sample arrays and we see what the data types of these arrays are.\n",
    "\n",
    "```\n",
    "arr1 = np.array([1, 2, 3, 4])\n",
    "arr2 = np.array(['I', 'love', 'Interviewbit'])    # Stored as Unicode characters with length of characters ranging from 1 to 12\n",
    "arr3 = np.array([1, 2, 3, 4], dtype='S')        # Creating numpy array of defined type string\n",
    "```\n",
    "\n",
    "Types would be : int64, <U12, |S1 (int, unicode str, string)\n",
    "\n",
    "How do you reverse a NumPy Array?\n",
    "\n",
    "reverse_arr = arr[::-1] OR for a 1D array, np.flipud(arr)\n",
    "\n",
    "How is np.mean() different from np.average()?\n",
    "\n",
    "Mean is the arithmetic mean, but for average youi can provide a weighting vector and calculate a weighted average\n",
    "\n",
    "How do you count the frequency of a given positive value appearing in the NumPy array?\n",
    "\n",
    "np.bincount(arr)\n",
    "\n",
    "Explain ravel and flatten and how they are different?\n",
    "\n",
    "Both produce 1D versions of an ndarray. However, flatten returns a copy and ravel returns a view, meaning ravel is faster but you may alter the original array\n",
    "\n",
    "How to find indices in an array based on a T/F condition?\n",
    "\n",
    "np.nonzero(A) finds the indices of an array where the elems of A are not zero. If we pass np.nonzero(A > 1), A > 1 on its own calculates a T / F matrix where each elem of A\n",
    "is T or F. In np T is represented as 1 and F as 0, so adding nonzero() on top will find all the True indices\n",
    "\n",
    "How do you check for an empty array / zero elems array?\n",
    "\n",
    "arr.size will return zero. Note len() off the same arr would return 1\n",
    "\n",
    "How to update, insert, delete rows or columns in numpy?\n",
    "\n",
    "np.delete, np.insert for the obvious applications, probably indexing to update\n",
    "\n",
    "Explain how is arr[:,0] different from arr[:,[0]]?\n",
    "\n",
    "arr[:,0] Returns 0th index elements of all rows. In other words, return the first column elements while arr[:,[0]] returns the elements of the first column by adding extra dimension to it.\n",
    "\n",
    "# option 1\n",
    "arr = np.array([[1,2,3,4],[5,6,7,8]])\n",
    "new_arr =arr[:,[0]]\n",
    "print(new_arr)\n",
    "\n",
    "Output:\n",
    "\n",
    " [1 5]\n",
    "\n",
    "\n",
    "# option 2\n",
    "\n",
    "arr = np.array([[1,2,3,4],[5,6,7,8]])\n",
    "new_arr =arr[:,[0]]\n",
    "print(new_arr)\n",
    "\n",
    "Output:\n",
    "\n",
    "[[1]\n",
    "[5]]\n",
    "\n",
    "How to multiply two arrays / matrices ?\n",
    "\n",
    "np.dot() for the dot product\n",
    "\n",
    "How to concatenate two arrays?\n",
    "\n",
    "np.concatenate() and you can specify the axis\n",
    "\n",
    "How to convert from pandas df to np array?\n",
    "\n",
    "df.to_numpy()\n",
    "\n",
    "What is vectorization?\n",
    "\n",
    "You can vectorize a function to be applied elementwise to one or multiple matrices.\n",
    "\n",
    "def add(arr1, arr2):\n",
    "    return (arr1 + arr2)\n",
    "\n",
    "arr1 = np.array([1,2,3])\n",
    "arr2 = np.array([4,5,6])\n",
    "\n",
    "#vectorize add method\n",
    "vectorized_add = np.vectorize(add)\n",
    "\n",
    "#call vectorized method\n",
    "result = vectorized_add(arr1, arr2)\n",
    "\n",
    "result output is [5,7,9]\n",
    "\n",
    "How to find local maxima using np?\n",
    "\n",
    "# look for where the previous and post values are less than the current value\n",
    "maxima_peaks_positions = np.where((arr[1:-1] > arr[0:-2]) * (arr[1:-1] > arr[2:]))[0] + 1\n",
    "\n",
    "How is vectorization related to broadcasting?\n",
    "\n",
    "Vectorization involves delegating NumPy operations internally to optimized C language functions to result in faster Python code. Whereas Broadcasting refers to the methods that allow NumPy to perform array-related arithmetic operations. The size or shape of the arrays does not matter in this case. Broadcasting solves the problem of mismatched shaped arrays by replicating the smaller array along the larger array to ensure both arrays are having compatible shapes for NumPy operations. Performing Broadcasting before Vectorization helps to vectorize operations which support arrays of different dimensions.\n",
    "\n",
    "What happens when using np.split()?\n",
    "\n",
    "split array into equal sections defined by n, if not possible return error\n",
    "\n",
    "What about np.arrays_split?\n",
    "\n",
    "Same as above, but it doesn't return an error if it can't produce equal length arrays, just has a leftover Length % N\n",
    "\n",
    "How to find a moving average in NumPy?\n",
    "\n",
    "def calculate_moving_average(arr, w):\n",
    "    return np.convolve(arr, np.ones(w),'valid')/w\n",
    "\n",
    "where w is the window length"
   ]
  },
  {
   "cell_type": "markdown",
   "metadata": {},
   "source": [
    "## Coding examples"
   ]
  },
  {
   "cell_type": "code",
   "execution_count": 1,
   "metadata": {},
   "outputs": [],
   "source": [
    "import numpy as np"
   ]
  },
  {
   "cell_type": "code",
   "execution_count": 2,
   "metadata": {},
   "outputs": [
    {
     "name": "stdout",
     "output_type": "stream",
     "text": [
      "Upper Conversion:  ['I' 'LOVE' 'NUMPY' 'AND' 'INTERVIEWBIT']\n",
      "Lower Conversion:  ['i' 'love' 'numpy' 'and' 'interviewbit']\n",
      "Capitalize First Letter Conversion:  ['I' 'Love' 'Numpy' 'And' 'Interviewbit']\n",
      "Titlecase Conversion:  ['I' 'Love' 'Numpy' 'And' 'Interviewbit']\n",
      "Swapcase Conversion:  ['I' 'LOVE' 'nUMpY' 'and' 'INTERVIEWBIT']\n"
     ]
    }
   ],
   "source": [
    "# case conversion\n",
    "\n",
    "arr = np.array(['i', 'love', 'NumPy', 'AND', 'interviewbit'], dtype=str)\n",
    "\n",
    "upper_case_arr = np.char.upper(arr)\n",
    "lower_case_arr = np.char.lower(arr)\n",
    "capitalize_case_arr = np.char.capitalize(arr)\n",
    "titlecase_arr = np.char.title(arr)\n",
    "swapcase_arr = np.char.swapcase(arr)\n",
    "\n",
    "print(\"Upper Conversion: \", upper_case_arr)\n",
    "print(\"Lower Conversion: \", lower_case_arr)\n",
    "print(\"Capitalize First Letter Conversion: \", capitalize_case_arr)\n",
    "print(\"Titlecase Conversion: \", titlecase_arr)\n",
    "print(\"Swapcase Conversion: \", swapcase_arr)"
   ]
  },
  {
   "cell_type": "code",
   "execution_count": 3,
   "metadata": {},
   "outputs": [
    {
     "name": "stdout",
     "output_type": "stream",
     "text": [
      "Transformed array: \n",
      "['00000022' '00000009' '00001234' '00000567' '00089102']\n"
     ]
    }
   ],
   "source": [
    "# Write a program to transform elements of a given string to a numeric string of 10 digits by making all the elements\n",
    "# of a given string to a numeric string of 8 digits with zeros on the left.\n",
    "\n",
    "arr = np.array(['22', '9', '1234', '567', '89102'], dtype=str)\n",
    "\n",
    "zeroes_filled_arr = np.char.zfill(arr, 8)\n",
    "print(\"Transformed array: \")\n",
    "print(zeroes_filled_arr)"
   ]
  },
  {
   "cell_type": "code",
   "execution_count": 4,
   "metadata": {},
   "outputs": [
    {
     "name": "stdout",
     "output_type": "stream",
     "text": [
      "Transformed Array: \n",
      "['i' 'l o v e' 'N u m P y' 'A N D' 'i n t e r v i e w b i t']\n"
     ]
    }
   ],
   "source": [
    "# Write a program for inserting space between characters of all elements in a NumPy array.\n",
    "\n",
    "arr = np.array(['i', 'love', 'NumPy', 'AND', 'interviewbit'], dtype=str)\n",
    "\n",
    "transformed_arr = np.char.join(\" \", arr)\n",
    "\n",
    "print(\"Transformed Array: \")\n",
    "print(transformed_arr)"
   ]
  },
  {
   "cell_type": "code",
   "execution_count": 5,
   "metadata": {},
   "outputs": [
    {
     "name": "stdout",
     "output_type": "stream",
     "text": [
      "Transformed array:\n",
      "['iiiii' 'lovelovelovelovelove' 'NumPyNumPyNumPyNumPyNumPy'\n",
      " 'ANDANDANDANDAND'\n",
      " 'interviewbitinterviewbitinterviewbitinterviewbitinterviewbit']\n"
     ]
    }
   ],
   "source": [
    "# Write a program to repeat each of the elements in the array 5 times\n",
    "\n",
    "arr = np.array(['i', 'love', 'NumPy', 'AND', 'interviewbit'], dtype=str)\n",
    "\n",
    "transformed_array = np.char.multiply(arr, 5)\n",
    "print(\"Transformed array:\")\n",
    "print(transformed_array)"
   ]
  },
  {
   "cell_type": "code",
   "execution_count": 6,
   "metadata": {},
   "outputs": [
    {
     "name": "stdout",
     "output_type": "stream",
     "text": [
      "[10 11 12 13 14 15 16 17 18 19 20 21 22 23 24 25 26 27 28 29 30 31 32 33\n",
      " 34 35 36 37 38 39 40 41 42 43 44 45 46 47 48 49 50 51 52 53 54 55 56 57\n",
      " 58 59]\n"
     ]
    }
   ],
   "source": [
    "# Write a program for creating an integer array with values belonging to the range 10 and 60\n",
    "\n",
    "arr = np.arange(10, 60)\n",
    "print(arr)"
   ]
  },
  {
   "cell_type": "code",
   "execution_count": 7,
   "metadata": {},
   "outputs": [
    {
     "name": "stdout",
     "output_type": "stream",
     "text": [
      "Transformed array:\n",
      "[[0. 0. 0. 0. 0. 0.]\n",
      " [0. 1. 1. 1. 1. 0.]\n",
      " [0. 1. 1. 1. 1. 0.]\n",
      " [0. 1. 1. 1. 1. 0.]\n",
      " [0. 1. 1. 1. 1. 0.]\n",
      " [0. 0. 0. 0. 0. 0.]]\n"
     ]
    }
   ],
   "source": [
    "# Write a program to add a border of zeros around the existing array\n",
    "\n",
    "ones_arr = np.ones((4,4))\n",
    "\n",
    "print(\"Transformed array:\")\n",
    "transformed_array = np.pad(ones_arr, pad_width=1, mode='constant', constant_values=0)\n",
    "print(transformed_array)"
   ]
  },
  {
   "cell_type": "code",
   "execution_count": 8,
   "metadata": {},
   "outputs": [
    {
     "name": "stdout",
     "output_type": "stream",
     "text": [
      "Original Shape:  (9,)\n",
      "Transformed Matrix :\n",
      "[[1 2 3]\n",
      " [4 5 6]\n",
      " [7 8 9]]\n",
      "Transformed Shape:  (3, 3)\n"
     ]
    }
   ],
   "source": [
    "# Write a program for changing the dimension of a NumPy array\n",
    "\n",
    "arr = np.array([1,2,3,4,5,6,7,8,9])\n",
    "print(\"Original Shape: \", arr.shape)\n",
    "\n",
    "# Change the shape/dimension of the array by changing .shape attr\n",
    "# note that the number of elements between dimensions needs to stay constant\n",
    "# there is another method as well .reshape(): np.reshape(arr,(m,n))\n"
   ]
  },
  {
   "cell_type": "code",
   "execution_count": 9,
   "metadata": {},
   "outputs": [
    {
     "name": "stdout",
     "output_type": "stream",
     "text": [
      "4\n"
     ]
    }
   ],
   "source": [
    "a = np.array([(1,2,50)])\n",
    "\n",
    "print(a.itemsize)"
   ]
  },
  {
   "cell_type": "code",
   "execution_count": 10,
   "metadata": {},
   "outputs": [
    {
     "name": "stdout",
     "output_type": "stream",
     "text": [
      "[[ 1  2 50]]\n"
     ]
    }
   ],
   "source": [
    "print(a)"
   ]
  },
  {
   "cell_type": "code",
   "execution_count": null,
   "metadata": {},
   "outputs": [],
   "source": []
  }
 ],
 "metadata": {
  "kernelspec": {
   "display_name": "CohereInterview",
   "language": "python",
   "name": "python3"
  },
  "language_info": {
   "codemirror_mode": {
    "name": "ipython",
    "version": 3
   },
   "file_extension": ".py",
   "mimetype": "text/x-python",
   "name": "python",
   "nbconvert_exporter": "python",
   "pygments_lexer": "ipython3",
   "version": "3.8.18"
  }
 },
 "nbformat": 4,
 "nbformat_minor": 2
}
