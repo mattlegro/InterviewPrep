{
 "cells": [
  {
   "cell_type": "markdown",
   "metadata": {},
   "source": [
    "## Demonstrate word embedding using Gensim"
   ]
  },
  {
   "cell_type": "code",
   "execution_count": 1,
   "metadata": {},
   "outputs": [],
   "source": [
    "import gensim\n",
    "from nltk.corpus import brown"
   ]
  },
  {
   "cell_type": "code",
   "execution_count": 2,
   "metadata": {},
   "outputs": [],
   "source": [
    "# nltk.download()"
   ]
  },
  {
   "cell_type": "markdown",
   "metadata": {},
   "source": [
    "### Embeddings from scratch"
   ]
  },
  {
   "cell_type": "code",
   "execution_count": 10,
   "metadata": {},
   "outputs": [
    {
     "data": {
      "text/plain": [
       "[['The', 'Fulton', 'County', 'Grand', 'Jury', 'said', 'Friday', 'an', 'investigation', 'of', \"Atlanta's\", 'recent', 'primary', 'election', 'produced', '``', 'no', 'evidence', \"''\", 'that', 'any', 'irregularities', 'took', 'place', '.'], ['The', 'jury', 'further', 'said', 'in', 'term-end', 'presentments', 'that', 'the', 'City', 'Executive', 'Committee', ',', 'which', 'had', 'over-all', 'charge', 'of', 'the', 'election', ',', '``', 'deserves', 'the', 'praise', 'and', 'thanks', 'of', 'the', 'City', 'of', 'Atlanta', \"''\", 'for', 'the', 'manner', 'in', 'which', 'the', 'election', 'was', 'conducted', '.'], ...]"
      ]
     },
     "execution_count": 10,
     "metadata": {},
     "output_type": "execute_result"
    }
   ],
   "source": [
    "train_set = brown.sents()[:10000]\n",
    "train_set"
   ]
  },
  {
   "cell_type": "markdown",
   "metadata": {},
   "source": [
    "Train word embeddings on brown corpus"
   ]
  },
  {
   "cell_type": "code",
   "execution_count": 12,
   "metadata": {},
   "outputs": [],
   "source": [
    "model = gensim.models.Word2Vec(train_set)\n",
    "model.save('brown.embedding')"
   ]
  },
  {
   "cell_type": "markdown",
   "metadata": {},
   "source": [
    "In case it took long (not) save and reload model"
   ]
  },
  {
   "cell_type": "code",
   "execution_count": 3,
   "metadata": {},
   "outputs": [],
   "source": [
    "loaded_model = gensim.models.Word2Vec.load('./models/brown.embedding')"
   ]
  },
  {
   "cell_type": "code",
   "execution_count": 4,
   "metadata": {},
   "outputs": [
    {
     "data": {
      "text/plain": [
       "100"
      ]
     },
     "execution_count": 4,
     "metadata": {},
     "output_type": "execute_result"
    }
   ],
   "source": [
    "# How many dims?\n",
    "\n",
    "len(loaded_model.wv['practice'])"
   ]
  },
  {
   "cell_type": "code",
   "execution_count": 5,
   "metadata": {},
   "outputs": [
    {
     "name": "stdout",
     "output_type": "stream",
     "text": [
      "0.99734426\n",
      "0.9985765\n"
     ]
    }
   ],
   "source": [
    "# cos sim example\n",
    "print(loaded_model.wv.similarity('university','school'))\n",
    "print(loaded_model.wv.similarity('university','home'))"
   ]
  },
  {
   "cell_type": "markdown",
   "metadata": {},
   "source": [
    "### From pretrained model"
   ]
  },
  {
   "cell_type": "code",
   "execution_count": 6,
   "metadata": {},
   "outputs": [],
   "source": [
    "word2vec_pretrained = gensim.models.KeyedVectors.load_word2vec_format('./models/GoogleNews-vectors-negative300.bin.gz', binary=True)"
   ]
  },
  {
   "cell_type": "code",
   "execution_count": 7,
   "metadata": {},
   "outputs": [
    {
     "data": {
      "text/plain": [
       "3000000"
      ]
     },
     "execution_count": 7,
     "metadata": {},
     "output_type": "execute_result"
    }
   ],
   "source": [
    "len(word2vec_pretrained.vocab)"
   ]
  },
  {
   "cell_type": "code",
   "execution_count": 8,
   "metadata": {},
   "outputs": [
    {
     "data": {
      "text/plain": [
       "300"
      ]
     },
     "execution_count": 8,
     "metadata": {},
     "output_type": "execute_result"
    }
   ],
   "source": [
    "len(word2vec_pretrained['practice'])"
   ]
  },
  {
   "cell_type": "code",
   "execution_count": 9,
   "metadata": {},
   "outputs": [
    {
     "name": "stdout",
     "output_type": "stream",
     "text": [
      "0.5080745\n",
      "0.09375003\n"
     ]
    },
    {
     "name": "stderr",
     "output_type": "stream",
     "text": [
      "C:\\Users\\esmba\\AppData\\Local\\Temp\\ipykernel_10348\\3905516336.py:1: DeprecationWarning: Call to deprecated `wv` (Attribute will be removed in 4.0.0, use self instead).\n",
      "  print(word2vec_pretrained.wv.similarity('university','school'))\n",
      "C:\\Users\\esmba\\AppData\\Local\\Temp\\ipykernel_10348\\3905516336.py:2: DeprecationWarning: Call to deprecated `wv` (Attribute will be removed in 4.0.0, use self instead).\n",
      "  print(word2vec_pretrained.wv.similarity('university','home'))\n"
     ]
    }
   ],
   "source": [
    "print(word2vec_pretrained.wv.similarity('university','school'))\n",
    "print(word2vec_pretrained.wv.similarity('university','home'))"
   ]
  },
  {
   "cell_type": "code",
   "execution_count": 10,
   "metadata": {},
   "outputs": [
    {
     "data": {
      "text/plain": [
       "[('universities', 0.7003918886184692),\n",
       " ('faculty', 0.6780906915664673),\n",
       " ('unversity', 0.6758289933204651)]"
      ]
     },
     "execution_count": 10,
     "metadata": {},
     "output_type": "execute_result"
    }
   ],
   "source": [
    "word2vec_pretrained.most_similar(positive=['university'], topn = 3)"
   ]
  },
  {
   "cell_type": "code",
   "execution_count": 11,
   "metadata": {},
   "outputs": [
    {
     "name": "stderr",
     "output_type": "stream",
     "text": [
      "c:\\Users\\esmba\\miniconda3\\envs\\CohereInterview\\lib\\site-packages\\gensim\\models\\keyedvectors.py:877: FutureWarning: arrays to stack must be passed as a \"sequence\" type such as list or tuple. Support for non-sequence iterables such as generators is deprecated as of NumPy 1.16 and will raise an error in the future.\n",
      "  vectors = vstack(self.word_vec(word, use_norm=True) for word in used_words).astype(REAL)\n"
     ]
    },
    {
     "data": {
      "text/plain": [
       "'cereal'"
      ]
     },
     "execution_count": 11,
     "metadata": {},
     "output_type": "execute_result"
    }
   ],
   "source": [
    "word2vec_pretrained.doesnt_match('breakfast cereal dinner lunch'.split())"
   ]
  },
  {
   "cell_type": "code",
   "execution_count": 12,
   "metadata": {},
   "outputs": [
    {
     "data": {
      "text/plain": [
       "[('queen', 0.7118192911148071)]"
      ]
     },
     "execution_count": 12,
     "metadata": {},
     "output_type": "execute_result"
    }
   ],
   "source": [
    "word2vec_pretrained.most_similar(positive=['woman','king'], negative=['man'], topn = 1)"
   ]
  },
  {
   "cell_type": "code",
   "execution_count": 13,
   "metadata": {},
   "outputs": [
    {
     "data": {
      "text/plain": [
       "[('France', 0.7884093523025513)]"
      ]
     },
     "execution_count": 13,
     "metadata": {},
     "output_type": "execute_result"
    }
   ],
   "source": [
    "word2vec_pretrained.most_similar(positive=['Paris','Germany'], negative=['Berlin'], topn = 1)"
   ]
  },
  {
   "cell_type": "code",
   "execution_count": 14,
   "metadata": {},
   "outputs": [
    {
     "ename": "AttributeError",
     "evalue": "'Word2VecKeyedVectors' object has no attribute 'index_to_key'",
     "output_type": "error",
     "traceback": [
      "\u001b[1;31m---------------------------------------------------------------------------\u001b[0m",
      "\u001b[1;31mAttributeError\u001b[0m                            Traceback (most recent call last)",
      "\u001b[1;32mc:\\Users\\esmba\\OneDrive\\Documents\\CodeRepos\\InterviewPrepPractice\\nltk_with_gensim.ipynb Cell 21\u001b[0m line \u001b[0;36m7\n\u001b[0;32m      <a href='vscode-notebook-cell:/c%3A/Users/esmba/OneDrive/Documents/CodeRepos/InterviewPrepPractice/nltk_with_gensim.ipynb#X30sZmlsZQ%3D%3D?line=3'>4</a>\u001b[0m max_count \u001b[39m=\u001b[39m \u001b[39m1000\u001b[39m\n\u001b[0;32m      <a href='vscode-notebook-cell:/c%3A/Users/esmba/OneDrive/Documents/CodeRepos/InterviewPrepPractice/nltk_with_gensim.ipynb#X30sZmlsZQ%3D%3D?line=4'>5</a>\u001b[0m X \u001b[39m=\u001b[39m np\u001b[39m.\u001b[39mzeros(shape\u001b[39m=\u001b[39m(max_count,\u001b[39mlen\u001b[39m(word2vec_pretrained[\u001b[39m'\u001b[39m\u001b[39muniversity\u001b[39m\u001b[39m'\u001b[39m])))\n\u001b[1;32m----> <a href='vscode-notebook-cell:/c%3A/Users/esmba/OneDrive/Documents/CodeRepos/InterviewPrepPractice/nltk_with_gensim.ipynb#X30sZmlsZQ%3D%3D?line=6'>7</a>\u001b[0m \u001b[39mfor\u001b[39;00m term \u001b[39min\u001b[39;00m word2vec_pretrained\u001b[39m.\u001b[39;49mindex_to_key:\n\u001b[0;32m      <a href='vscode-notebook-cell:/c%3A/Users/esmba/OneDrive/Documents/CodeRepos/InterviewPrepPractice/nltk_with_gensim.ipynb#X30sZmlsZQ%3D%3D?line=7'>8</a>\u001b[0m     X[count] \u001b[39m=\u001b[39m word2vec_pretrained[term]\n\u001b[0;32m      <a href='vscode-notebook-cell:/c%3A/Users/esmba/OneDrive/Documents/CodeRepos/InterviewPrepPractice/nltk_with_gensim.ipynb#X30sZmlsZQ%3D%3D?line=8'>9</a>\u001b[0m     labels\u001b[39m.\u001b[39mappend(term)\n",
      "\u001b[1;31mAttributeError\u001b[0m: 'Word2VecKeyedVectors' object has no attribute 'index_to_key'"
     ]
    }
   ],
   "source": [
    "\n",
    "import numpy as np\n",
    "labels = []\n",
    "count = 0\n",
    "max_count = 1000\n",
    "X = np.zeros(shape=(max_count,len(word2vec_pretrained['university'])))\n",
    "\n",
    "for term in word2vec_pretrained.index_to_key:\n",
    "    X[count] = word2vec_pretrained[term]\n",
    "    labels.append(term)\n",
    "    count+= 1\n",
    "    if count >= max_count: break\n",
    "\n",
    "# It is recommended to use PCA first to reduce to ~50 dimensions\n",
    "from sklearn.decomposition import PCA\n",
    "pca = PCA(n_components=50)\n",
    "X_50 = pca.fit_transform(X)\n",
    "\n",
    "# Using TSNE to further reduce to 2 dimensions\n",
    "from sklearn.manifold import TSNE\n",
    "model_tsne = TSNE(n_components=2, random_state=0)\n",
    "Y = model_tsne.fit_transform(X_50)\n",
    "\n",
    "# Show the scatter plot\n",
    "import matplotlib.pyplot as plt\n",
    "plt.scatter(Y[:,0], Y[:,1], 20)\n",
    "\n",
    "# Add labels\n",
    "for label, x, y in zip(labels, Y[:, 0], Y[:, 1]):\n",
    "    plt.annotate(label, xy = (x,y), xytext = (0, 0), textcoords = 'offset points', size = 10)\n",
    "\n",
    "plt.show()\n"
   ]
  },
  {
   "cell_type": "code",
   "execution_count": null,
   "metadata": {},
   "outputs": [],
   "source": []
  }
 ],
 "metadata": {
  "kernelspec": {
   "display_name": "CohereInterview",
   "language": "python",
   "name": "python3"
  },
  "language_info": {
   "codemirror_mode": {
    "name": "ipython",
    "version": 3
   },
   "file_extension": ".py",
   "mimetype": "text/x-python",
   "name": "python",
   "nbconvert_exporter": "python",
   "pygments_lexer": "ipython3",
   "version": "3.8.18"
  }
 },
 "nbformat": 4,
 "nbformat_minor": 2
}
